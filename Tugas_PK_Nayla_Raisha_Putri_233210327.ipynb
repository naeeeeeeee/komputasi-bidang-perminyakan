{
 "cells": [
  {
   "cell_type": "markdown",
   "metadata": {},
   "source": [
    "## volume reservoir"
   ]
  },
  {
   "cell_type": "code",
   "execution_count": 1,
   "metadata": {},
   "outputs": [
    {
     "name": "stdout",
     "output_type": "stream",
     "text": [
      "Tinggi reservoir = 17.0\n",
      "Jari-jari =  25.0\n",
      "Volume reservoir adalah =  33379.42194439155\n"
     ]
    }
   ],
   "source": [
    "import math\n",
    "\n",
    "jari_jari = float(input(\"Masukkan jari-jari \"))\n",
    "tinggi = float(input(\"Masukkan tinggi \"))\n",
    "\n",
    "\n",
    "vr= math.pi* jari_jari**2 *tinggi\n",
    "\n",
    "print(\"Tinggi reservoir =\", tinggi)\n",
    "print(\"Jari-jari = \", jari_jari)\n",
    "print(\"Volume reservoir adalah = \", vr) "
   ]
  },
  {
   "cell_type": "markdown",
   "metadata": {},
   "source": [
    "## porositas"
   ]
  },
  {
   "cell_type": "code",
   "execution_count": 5,
   "metadata": {},
   "outputs": [
    {
     "name": "stdout",
     "output_type": "stream",
     "text": [
      "Volume pori= 25.0\n",
      "Volume batuan= 12.0\n",
      "Porositas adalah=  208.33333333333334\n"
     ]
    }
   ],
   "source": [
    "\n",
    "\n",
    "vpori = float(input(\"Masukkan volume pori \"))\n",
    "vbatuan = float(input(\"Masukkan volume batuan \"))\n",
    "\n",
    "porositas = vpori/ vbatuan *100\n",
    "\n",
    "print(\"Volume pori=\", vpori)\n",
    "print(\"Volume batuan=\", vbatuan)\n",
    "print(\"Porositas adalah= \", porositas) "
   ]
  },
  {
   "cell_type": "markdown",
   "metadata": {},
   "source": [
    "## flow rate"
   ]
  },
  {
   "cell_type": "code",
   "execution_count": 6,
   "metadata": {},
   "outputs": [
    {
     "name": "stdout",
     "output_type": "stream",
     "text": [
      "Volume = 40.0\n",
      "Waktu= 25.0\n",
      "Flow rate adalah=  1.6\n"
     ]
    }
   ],
   "source": [
    "\n",
    "\n",
    "volume = float(input(\"Masukkan Volume  \"))\n",
    "tinggi = float(input(\"Masukkan Waktu \"))\n",
    "\n",
    "flow_rate = volume/tinggi\n",
    "\n",
    "print(\"Volume =\", volume)\n",
    "print(\"Waktu=\", tinggi)\n",
    "print(\"Flow rate adalah= \", flow_rate)"
   ]
  },
  {
   "cell_type": "markdown",
   "metadata": {},
   "source": [
    "## faktor pemulihan"
   ]
  },
  {
   "cell_type": "code",
   "execution_count": 7,
   "metadata": {},
   "outputs": [
    {
     "name": "stdout",
     "output_type": "stream",
     "text": [
      "jumlah minyak yang diproduksi= 1500.0\n",
      "jumlah minyak awal= 700.0\n",
      "faktor pemulihan=  2.142856705539448\n"
     ]
    }
   ],
   "source": [
    "\n",
    "import math\n",
    "\n",
    "Np = float(input(\"masukkan jumlah minyak yang diproduksi \"))\n",
    "N = float(input(\"masukkan jumlah minyak awal \"))\n",
    "m = 0.1\n",
    "\n",
    "faktor_pemulihan = Np/(N + m/N)\n",
    "\n",
    "print(\"jumlah minyak yang diproduksi=\", Np)\n",
    "print(\"jumlah minyak awal=\", N)\n",
    "print(\"faktor pemulihan= \", faktor_pemulihan) "
   ]
  },
  {
   "cell_type": "markdown",
   "metadata": {},
   "source": [
    "## permeabilitas efektif"
   ]
  },
  {
   "cell_type": "code",
   "execution_count": 8,
   "metadata": {},
   "outputs": [
    {
     "name": "stdout",
     "output_type": "stream",
     "text": [
      "permeabilitas relatif air= 14.0\n",
      "saturasi air= 8.0\n",
      "saturasi minyak residual=  23.0\n",
      "permeabilitas efektif adalah 806400.0\n"
     ]
    }
   ],
   "source": [
    "import math\n",
    "\n",
    "Krw= float(input(\"masukkan permeabilitas relatif air \"))\n",
    "Sw = float(input(\"masukkan saturasi air \"))\n",
    "Sor = float(input(\"masukkan saturasi minyak residual\"))\n",
    "n = 2\n",
    "m = 2\n",
    "\n",
    "permeabilitas_efektif= Krw* (Sw**n)*(1-Sor - Sw)**m\n",
    "\n",
    "print(\"permeabilitas relatif air=\", Krw)\n",
    "print(\"saturasi air=\", Sw)\n",
    "print(\"saturasi minyak residual= \", Sor) \n",
    "print(\"permeabilitas efektif adalah\", permeabilitas_efektif)"
   ]
  }
 ],
 "metadata": {
  "kernelspec": {
   "display_name": "base",
   "language": "python",
   "name": "python3"
  },
  "language_info": {
   "codemirror_mode": {
    "name": "ipython",
    "version": 3
   },
   "file_extension": ".py",
   "mimetype": "text/x-python",
   "name": "python",
   "nbconvert_exporter": "python",
   "pygments_lexer": "ipython3",
   "version": "3.11.7"
  }
 },
 "nbformat": 4,
 "nbformat_minor": 2
}
